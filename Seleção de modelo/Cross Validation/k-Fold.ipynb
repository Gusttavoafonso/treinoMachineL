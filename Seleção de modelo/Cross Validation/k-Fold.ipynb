{
 "cells": [
  {
   "cell_type": "markdown",
   "id": "21f8ecb1",
   "metadata": {},
   "source": [
    "# k-Fold Cross Validation\n",
    "\n",
    "**k-Fold Cross Validation** é uma técnica de validação cruzada amplamente utilizada em *Machine Learning* para avaliar o desempenho de um modelo de forma mais robusta e reduzir o viés relacionado à divisão dos dados.\n",
    "\n",
    "---\n",
    "\n",
    "## 📖 O que é?\n",
    "\n",
    "O objetivo do **k-Fold Cross Validation** é avaliar como um modelo generaliza para um conjunto de dados independente. Em vez de usar uma única divisão treino/teste, ele realiza múltiplas divisões e avalia o modelo em cada uma delas.\n",
    "\n",
    "O processo consiste em:  \n",
    "1. Dividir o dataset em **k** partes (ou *folds*) de tamanho aproximadamente igual.  \n",
    "2. Para cada *fold*:  \n",
    "   - Usar **k-1 folds** para treinar o modelo.  \n",
    "   - Usar o *fold* restante para testar o modelo.  \n",
    "3. Repetir o processo **k** vezes, cada vez com um *fold* diferente sendo usado como teste.  \n",
    "4. Calcular uma métrica (ex: acurácia, erro médio) para cada iteração e, ao final, tirar a **média** dos resultados.\n",
    "\n",
    "---\n",
    "\n",
    "## 🔢 Como Funciona?\n",
    "\n",
    "1. Escolha o número de *folds* \\(k\\) (ex.: \\(k=5\\)).  \n",
    "2. Divida o conjunto de dados em 5 partes iguais.  \n",
    "3. Execute 5 treinos/testes:  \n",
    "   - Na 1ª iteração, use o 1º fold para teste e os outros 4 para treino.  \n",
    "   - Na 2ª iteração, use o 2º fold para teste e os outros 4 para treino.  \n",
    "   - … repita até cada fold ter sido usado como teste uma vez.  \n",
    "\n",
    "📊 **Exemplo com \\(k=5\\):**\n",
    "\n",
    "| Iteração | Folds de Treino       | Fold de Teste |\n",
    "|----------|------------------------|---------------|\n",
    "| 1        | 2, 3, 4, 5             | 1             |\n",
    "| 2        | 1, 3, 4, 5             | 2             |\n",
    "| 3        | 1, 2, 4, 5             | 3             |\n",
    "| 4        | 1, 2, 3, 5             | 4             |\n",
    "| 5        | 1, 2, 3, 4             | 5             |\n",
    "\n",
    "---\n",
    "\n",
    "## ✅ Vantagens\n",
    "\n",
    "- Usa todos os dados para treino e teste.\n",
    "- Fornece uma estimativa mais confiável do desempenho do modelo.\n",
    "- Reduz o risco de overfitting associado a uma única divisão de dados.\n",
    "\n",
    "---\n",
    "\n",
    "## ⚠️ Desvantagens\n",
    "\n",
    "- Mais caro computacionalmente, pois o modelo é treinado **k** vezes.\n",
    "- Se o dataset for muito grande, pode ser demorado.\n",
    "\n",
    "---\n",
    "\n",
    "## 📌 Fórmula para média da métrica\n",
    "\n",
    "Seja \\(M_i\\) a métrica obtida na iteração \\(i\\), a média final \\(M\\) é:\n",
    "\n",
    "$$\n",
    "M = \\frac{1}{k} \\sum_{i=1}^{k} M_i\n",
    "$$\n",
    "\n",
    "---"
   ]
  },
  {
   "cell_type": "code",
   "execution_count": null,
   "id": "15a4f652",
   "metadata": {
    "vscode": {
     "languageId": "plaintext"
    }
   },
   "outputs": [],
   "source": [
    "import numpy as np\n",
    "import matplotlib.pyplot as plt\n",
    "import pandas as pd"
   ]
  },
  {
   "cell_type": "code",
   "execution_count": null,
   "id": "026bfbc9",
   "metadata": {
    "vscode": {
     "languageId": "plaintext"
    }
   },
   "outputs": [],
   "source": [
    "dataset = pd.read_csv('Social_Network_Ads.csv')\n",
    "X = dataset.iloc[:, :-1].values\n",
    "y = dataset.iloc[:, -1].values"
   ]
  },
  {
   "cell_type": "code",
   "execution_count": null,
   "id": "564f17e2",
   "metadata": {
    "vscode": {
     "languageId": "plaintext"
    }
   },
   "outputs": [],
   "source": [
    "from sklearn.model_selection import train_test_split\n",
    "X_train, X_test, y_train, y_test = train_test_split(X, y, test_size = 0.25, random_state = 0)"
   ]
  },
  {
   "cell_type": "code",
   "execution_count": null,
   "id": "1153fa8a",
   "metadata": {
    "vscode": {
     "languageId": "plaintext"
    }
   },
   "outputs": [],
   "source": [
    "from sklearn.preprocessing import StandardScaler\n",
    "sc = StandardScaler()\n",
    "X_train = sc.fit_transform(X_train)\n",
    "X_test = sc.transform(X_test)"
   ]
  },
  {
   "cell_type": "code",
   "execution_count": null,
   "id": "6a191072",
   "metadata": {
    "vscode": {
     "languageId": "plaintext"
    }
   },
   "outputs": [],
   "source": [
    "from sklearn.svm import SVC\n",
    "classifier = SVC(kernel = 'rbf', random_state = 0)\n",
    "classifier.fit(X_train, y_train)"
   ]
  },
  {
   "cell_type": "code",
   "execution_count": null,
   "id": "4fe5d063",
   "metadata": {
    "vscode": {
     "languageId": "plaintext"
    }
   },
   "outputs": [],
   "source": [
    "from sklearn.metrics import confusion_matrix, accuracy_score\n",
    "y_pred = classifier.predict(X_test)\n",
    "cm = confusion_matrix(y_test, y_pred)\n",
    "print(cm)\n",
    "accuracy_score(y_test, y_pred)"
   ]
  },
  {
   "cell_type": "markdown",
   "id": "26202e1f",
   "metadata": {},
   "source": [
    "#Aplicando K-fold Croos validation"
   ]
  },
  {
   "cell_type": "code",
   "execution_count": null,
   "id": "20c486f5",
   "metadata": {
    "vscode": {
     "languageId": "plaintext"
    }
   },
   "outputs": [],
   "source": [
    "from sklearn.model_selection import cross_val_score\n",
    "accuracies = cross_val_score(estimator = classifier, X = X_train, y = y_train, cv = 10)\n",
    "print(\"Accuracy: {:.2f} %\".format(accuracies.mean()*100))\n",
    "print(\"Standard Deviation: {:.2f} %\".format(accuracies.std()*100))"
   ]
  }
 ],
 "metadata": {
  "language_info": {
   "name": "python"
  }
 },
 "nbformat": 4,
 "nbformat_minor": 5
}
