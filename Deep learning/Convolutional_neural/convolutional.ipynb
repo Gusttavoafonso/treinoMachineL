{
 "cells": [
  {
   "cell_type": "markdown",
   "id": "fc82a868",
   "metadata": {},
   "source": [
    "# 🧠 Convolutional Neural Networks (CNNs)\n",
    "\n",
    "As **Redes Neurais Convolucionais (CNNs)** são uma arquitetura de rede neural projetada para processar dados com uma estrutura de grade, como imagens. Elas são amplamente utilizadas em **visão computacional**, **processamento de vídeo**, **reconhecimento de padrões** e até mesmo em **processamento de linguagem natural**.\n",
    "\n",
    "---\n",
    "\n",
    "## 📷 O que é uma CNN?\n",
    "\n",
    "Uma **CNN** é composta por camadas especializadas que podem extrair **características espaciais** e **hierárquicas** dos dados de entrada. Ao contrário das redes totalmente conectadas (Fully Connected), elas utilizam operações matemáticas chamadas **convoluções** para capturar relações locais.\n",
    "\n",
    "---\n",
    "\n",
    "## 🛠 Estrutura de uma CNN\n",
    "\n",
    "Uma CNN é composta principalmente por 3 tipos de camadas:\n",
    "\n",
    "### 1️⃣ **Camada Convolucional**\n",
    "- Aplica **filtros (kernels)** sobre a entrada para extrair **features** como bordas, texturas e padrões.\n",
    "- Fórmula da operação de convolução:\n",
    "  \\[\n",
    "  (I * K)(x, y) = \\sum_{m}\\sum_{n} I(m, n) \\cdot K(x-m, y-n)\n",
    "  \\]\n",
    "  Onde:\n",
    "  - \\(I\\): imagem de entrada\n",
    "  - \\(K\\): kernel/filtro\n",
    "  - \\(*\\): operação de convolução\n",
    "\n",
    "---\n",
    "\n",
    "### 2️⃣ **Camada de Pooling**\n",
    "- Reduz a **dimensionalidade** das features, mantendo as informações mais relevantes.\n",
    "- Tipos comuns:\n",
    "  - **Max Pooling**: seleciona o valor máximo em cada região.\n",
    "  - **Average Pooling**: calcula a média dos valores em cada região.\n",
    "\n",
    "---\n",
    "\n",
    "### 3️⃣ **Camadas Completamente Conectadas (Fully Connected)**\n",
    "- Conectam todos os neurônios para realizar a **classificação final**.\n",
    "\n",
    "---\n",
    "\n",
    "## 🎨 Fluxo de uma CNN\n",
    "\n",
    "1. **Entrada**: imagem ou dado com estrutura de grade.\n",
    "2. **Convoluções**: aplicação de filtros para extrair features.\n",
    "3. **Pooling**: redução da dimensionalidade.\n",
    "4. **Flattening**: transformação das features em vetor.\n",
    "5. **Camadas Densas**: processam o vetor para gerar a saída.\n",
    "\n",
    "---\n",
    "\n",
    "## 📈 Aplicações de CNNs\n",
    "\n",
    "✅ **Classificação de Imagens** (ex.: gatos vs. cachorros)  \n",
    "✅ **Detecção de Objetos** (ex.: YOLO, SSD)  \n",
    "✅ **Segmentação de Imagens** (ex.: U-Net)  \n",
    "✅ **Reconhecimento Facial**  \n",
    "✅ **Análise de Vídeo**  \n",
    "\n",
    "---\n",
    "\n",
    "## 🚀 Vantagens das CNNs\n",
    "\n",
    "✔ Reduzem o número de parâmetros com compartilhamento de pesos.  \n",
    "✔ Capturam **relações espaciais** entre pixels.  \n",
    "✔ Escalam bem para dados de alta dimensão.  \n",
    "\n",
    "---\n",
    "\n",
    "## 📚 Exemplos Populares de Arquiteturas CNN\n",
    "\n",
    "- **LeNet-5**: pioneira para reconhecimento de dígitos escritos à mão.  \n",
    "- **AlexNet**: revolucionou o ImageNet em 2012.  \n",
    "- **VGGNet**: usa filtros 3x3 para profundidade.  \n",
    "- **ResNet**: introduziu conexões residuais (skip connections).\n",
    "\n",
    "---\n",
    "\n",
    "## 🔥 Fórmula da Convolução Visualizada\n",
    "\n",
    "\n",
    "📥 **Imagem (Entrada)**  \n",
    "➡ Aplicação de **filtros (kernels)**  \n",
    "➡ 📤 **Mapa de características (Feature Map)**\n",
    "\n",
    "---\n",
    "\n",
    "> 📝 **Resumo**: CNNs são uma ferramenta poderosa para tarefas que exigem entender dados espaciais e visuais. Elas são a espinha dorsal de muitas aplicações modernas de inteligência artificial.\n",
    "\n"
   ]
  },
  {
   "cell_type": "code",
   "execution_count": null,
   "id": "96b7dd0e",
   "metadata": {
    "vscode": {
     "languageId": "plaintext"
    }
   },
   "outputs": [],
   "source": [
    "import tensorflow as tf\n",
    "from keras.preprocessing.image import ImageDataGenerator"
   ]
  },
  {
   "cell_type": "code",
   "execution_count": null,
   "id": "d13f741c",
   "metadata": {
    "vscode": {
     "languageId": "plaintext"
    }
   },
   "outputs": [],
   "source": [
    "tf.__version__"
   ]
  },
  {
   "cell_type": "code",
   "execution_count": null,
   "id": "2c857101",
   "metadata": {
    "vscode": {
     "languageId": "plaintext"
    }
   },
   "outputs": [],
   "source": [
    "train_datagen = ImageDataGenerator(rescale = 1./255,\n",
    "                                   shear_range = 0.2,\n",
    "                                   zoom_range = 0.2,\n",
    "                                   horizontal_flip = True)\n",
    "training_set = train_datagen.flow_from_directory('dataset/training_set',\n",
    "                                                 target_size = (64, 64),\n",
    "                                                 batch_size = 32,\n",
    "                                                 class_mode = 'binary')"
   ]
  },
  {
   "cell_type": "code",
   "execution_count": null,
   "id": "b906b61f",
   "metadata": {
    "vscode": {
     "languageId": "plaintext"
    }
   },
   "outputs": [],
   "source": [
    "test_datagen = ImageDataGenerator(rescale = 1./255)\n",
    "test_set = test_datagen.flow_from_directory('dataset/test_set',\n",
    "                                            target_size = (64, 64),\n",
    "                                            batch_size = 32,\n",
    "                                            class_mode = 'binary')"
   ]
  },
  {
   "cell_type": "code",
   "execution_count": null,
   "id": "294df75a",
   "metadata": {
    "vscode": {
     "languageId": "plaintext"
    }
   },
   "outputs": [],
   "source": [
    "cnn = tf.keras.models.Sequential()"
   ]
  },
  {
   "cell_type": "code",
   "execution_count": null,
   "id": "acf0af71",
   "metadata": {
    "vscode": {
     "languageId": "plaintext"
    }
   },
   "outputs": [],
   "source": [
    "cnn.add(tf.keras.layers.Conv2D(filters=32, kernel_size=3, activation='relu', input_shape=[64, 64, 3]))"
   ]
  },
  {
   "cell_type": "code",
   "execution_count": null,
   "id": "f6092aa2",
   "metadata": {
    "vscode": {
     "languageId": "plaintext"
    }
   },
   "outputs": [],
   "source": [
    "cnn.add(tf.keras.layers.MaxPool2D(pool_size=2, strides=2))"
   ]
  },
  {
   "cell_type": "code",
   "execution_count": null,
   "id": "41f0b1ff",
   "metadata": {
    "vscode": {
     "languageId": "plaintext"
    }
   },
   "outputs": [],
   "source": [
    "cnn.add(tf.keras.layers.Conv2D(filters=32, kernel_size=3, activation='relu'))\n",
    "cnn.add(tf.keras.layers.MaxPool2D(pool_size=2, strides=2))"
   ]
  },
  {
   "cell_type": "code",
   "execution_count": null,
   "id": "d7f73f1e",
   "metadata": {
    "vscode": {
     "languageId": "plaintext"
    }
   },
   "outputs": [],
   "source": [
    "cnn.add(tf.keras.layers.Flatten())"
   ]
  },
  {
   "cell_type": "code",
   "execution_count": null,
   "id": "27a207e9",
   "metadata": {
    "vscode": {
     "languageId": "plaintext"
    }
   },
   "outputs": [],
   "source": [
    "cnn.add(tf.keras.layers.Dense(units=128, activation='relu'))"
   ]
  },
  {
   "cell_type": "code",
   "execution_count": null,
   "id": "6d53e3a1",
   "metadata": {
    "vscode": {
     "languageId": "plaintext"
    }
   },
   "outputs": [],
   "source": [
    "cnn.add(tf.keras.layers.Dense(units=1, activation='sigmoid'))"
   ]
  },
  {
   "cell_type": "code",
   "execution_count": null,
   "id": "4d65caf6",
   "metadata": {
    "vscode": {
     "languageId": "plaintext"
    }
   },
   "outputs": [],
   "source": [
    "cnn.compile(optimizer = 'adam', loss = 'binary_crossentropy', metrics = ['accuracy'])"
   ]
  },
  {
   "cell_type": "code",
   "execution_count": null,
   "id": "dd4b2419",
   "metadata": {
    "vscode": {
     "languageId": "plaintext"
    }
   },
   "outputs": [],
   "source": [
    "cnn.fit(x = training_set, validation_data = test_set, epochs = 25)"
   ]
  },
  {
   "cell_type": "code",
   "execution_count": null,
   "id": "da35b470",
   "metadata": {
    "vscode": {
     "languageId": "plaintext"
    }
   },
   "outputs": [],
   "source": [
    "import numpy as np\n",
    "from keras.preprocessing import image\n",
    "test_image = image.load_img('dataset/single_prediction/cat_or_dog_1.jpg', target_size = (64, 64))\n",
    "test_image = image.img_to_array(test_image)\n",
    "test_image = np.expand_dims(test_image, axis = 0)\n",
    "result = cnn.predict(test_image)\n",
    "training_set.class_indices\n",
    "if result[0][0] == 1:\n",
    "  prediction = 'dog'\n",
    "else:\n",
    "  prediction = 'cat'"
   ]
  },
  {
   "cell_type": "code",
   "execution_count": null,
   "id": "3f4422a7",
   "metadata": {
    "vscode": {
     "languageId": "plaintext"
    }
   },
   "outputs": [],
   "source": [
    "print(prediction)"
   ]
  }
 ],
 "metadata": {
  "language_info": {
   "name": "python"
  }
 },
 "nbformat": 4,
 "nbformat_minor": 5
}
